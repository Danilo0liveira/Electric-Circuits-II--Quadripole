{
 "cells": [
  {
   "cell_type": "code",
   "execution_count": 17,
   "metadata": {},
   "outputs": [
    {
     "name": "stdout",
     "output_type": "stream",
     "text": [
      "modulo: 79.99402314413291 | fase: 1.988360749502796\n"
     ]
    }
   ],
   "source": [
    "#considerando as tensões nos transformadores do diagrama\n",
    "import numpy as np\n",
    "from cmath import polar\n",
    "from network import Network\n",
    "from quadripoles import Quadripole, SeriesImpedance, ShuntAdmittance, PiCircuit, Transformer\n",
    "\n",
    "\n",
    "network = Network(v1=69e3,v2=69e3)\n",
    "\n",
    "s_imped_th = s_imped_th = SeriesImpedance(z=4+0.38j)\n",
    "t1 = Transformer(n= 69/230, z1= 7.6e-3 + 3.8e-3j, z2= 33.9e-3 + 0.85e-3j,\n",
    "                 y=1/(4320 + 5050j))\n",
    "\n",
    "network.set_resultant_matrix(network.cascade_connection(s_imped_th.net_mtrx, t1.net_mtrx))\n",
    "\n",
    "rkm = 0.172\n",
    "xlkm = 120*np.pi*2.18e-3j\n",
    "xckm = 1/(120*np.pi*0.0136e-6j)\n",
    "\n",
    "\n",
    "lt1 = PiCircuit(z= rkm*100 + xlkm*100, y1=2/xckm, y2=2/xckm)\n",
    "lt2 = PiCircuit(z= rkm*100 + xlkm*100, y1=2/xckm, y2=2/xckm)\n",
    "lt3 = PiCircuit(z= rkm*100 + xlkm*100, y1=2/xckm, y2=2/xckm)\n",
    "\n",
    "ltpl1 = network.parallel_connection(network.parallel_connection(lt1.net_mtrx, lt2.net_mtrx), lt3.net_mtrx)\n",
    "\n",
    "network.set_resultant_matrix(network.cascade_connection(network.resultant_mtrx, ltpl1))\n",
    "\n",
    "z1=ShuntAdmittance(z=8530 + 120*np.pi*52j)\n",
    "\n",
    "network.set_resultant_matrix(network.cascade_connection(network.resultant_mtrx, z1.net_mtrx))\n",
    "\n",
    "lt4 = PiCircuit(z= rkm*100 + xlkm*100, y1=2/xckm, y2=2/xckm)\n",
    "lt5 = PiCircuit(z= rkm*100 + xlkm*100, y1=2/xckm, y2=2/xckm)\n",
    "\n",
    "lt2pl = network.parallel_connection(lt4.net_mtrx, lt5.net_mtrx)\n",
    "\n",
    "network.set_resultant_matrix(network.cascade_connection(network.resultant_mtrx, lt2pl))\n",
    "\n",
    "t2 = Transformer(n= 230/138, z1= 7.6e-3 + 3.8e-3j, z2= 33.9e-3 + 0.85e-3j,\n",
    "                 y=1/(432000 + 505000j))\n",
    "\n",
    "z2=ShuntAdmittance(z=1050.55 + 120*np.pi*6.02j)\n",
    "\n",
    "lt6=PiCircuit(z= rkm*120 + xlkm*120, y1=2/xckm, y2=2/xckm)\n",
    "\n",
    "t3=Transformer(n= 230/138, z1= 7.6e-3 + 3.8e-3j, z2= 33.9e-3 + 0.85e-3j,\n",
    "                 y=1/(402000 + 607000j))\n",
    "\n",
    "z3=ShuntAdmittance(z=505 + 120*np.pi*2.7j)\n",
    "\n",
    "# network.set_resultant_matrix(network.cascade_connection(network.resultant_mtrx, t2.net_mtrx, z2.net_mtrx))\n",
    "\n",
    "network.set_resultant_matrix(network.cascade_connection(network.resultant_mtrx, t2.net_mtrx, z2.net_mtrx,\n",
    "                                                        lt6.net_mtrx, t3.net_mtrx, z3.net_mtrx))\n",
    "\n",
    "network.resultant_mtrx\n",
    "\n",
    "network.set_current2()\n",
    "\n",
    "i2_polar = polar(network.currents[1])\n",
    "\n",
    "print(f'modulo: {i2_polar[0]} | fase: {i2_polar[1]}')"
   ]
  }
 ],
 "metadata": {
  "kernelspec": {
   "display_name": "Python 3",
   "language": "python",
   "name": "python3"
  },
  "language_info": {
   "codemirror_mode": {
    "name": "ipython",
    "version": 3
   },
   "file_extension": ".py",
   "mimetype": "text/x-python",
   "name": "python",
   "nbconvert_exporter": "python",
   "pygments_lexer": "ipython3",
   "version": "3.11.2"
  }
 },
 "nbformat": 4,
 "nbformat_minor": 2
}
